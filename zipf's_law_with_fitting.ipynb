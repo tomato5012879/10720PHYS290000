{
 "cells": [
  {
   "cell_type": "code",
   "execution_count": 1,
   "metadata": {},
   "outputs": [
    {
     "name": "stdout",
     "output_type": "stream",
     "text": [
      "6331\n"
     ]
    },
    {
     "data": {
      "text/plain": [
       "<Figure size 640x480 with 1 Axes>"
      ]
     },
     "metadata": {},
     "output_type": "display_data"
    }
   ],
   "source": [
    "fp = open('alice.txt', 'r', encoding = 'UTF-8')\n",
    "\n",
    "dict = {}\n",
    "line = fp.readline()\n",
    "while line :\n",
    "    s = line.split()\n",
    "    for x in s :\n",
    "        if x not in dict :\n",
    "            dict[x] = 1\n",
    "        else :\n",
    "            dict[x] = dict[x] + 1\n",
    "    line = fp.readline()\n",
    "    #print(line)\n",
    "#print(dict)\n",
    "fp.close()\n",
    "\n",
    "num = []\n",
    "for key in dict:\n",
    "    num.append(dict[key])\n",
    "\n",
    "num.sort()\n",
    "num.reverse() #reverse the list\n",
    "\n",
    "#print(num)\n",
    "print(len(num))\n",
    "\n",
    "import numpy as np\n",
    "import matplotlib.pyplot as plt\n",
    "\n",
    "plt.loglog(range(len(num)),num)\n",
    "plt.show()"
   ]
  },
  {
   "cell_type": "code",
   "execution_count": 13,
   "metadata": {},
   "outputs": [
    {
     "name": "stdout",
     "output_type": "stream",
     "text": [
      "[ 1.73861759e+03 -8.07615021e-01] [[ 1.53536987e+01 -2.84438559e-03]\n",
      " [-2.84438559e-03  1.46570912e-06]]\n"
     ]
    },
    {
     "data": {
      "image/png": "[encoded data removed]",
      "text/plain": [
       "<Figure size 432x288 with 1 Axes>"
      ]
     },
     "metadata": {
      "needs_background": "light"
     },
     "output_type": "display_data"
    }
   ],
   "source": [
    "from scipy import optimize\n",
    "\n",
    "x = np.linspace(1,6331,6331)\n",
    "def test_func(x, amp, n):\n",
    "    return amp*x**n\n",
    "\n",
    "params, params_covariance = optimize.curve_fit(test_func, x, num)\n",
    "print(params, params_covariance)\n",
    "plt.loglog(x, test_func(x, params[0], params[1]), 'r*')\n",
    "plt.loglog(range(len(num)),num)\n",
    "plt.show()"
   ]
  },
  {
   "cell_type": "code",
   "execution_count": null,
   "metadata": {},
   "outputs": [],
   "source": []
  },
  {
   "cell_type": "code",
   "execution_count": null,
   "metadata": {},
   "outputs": [],
   "source": []
  },
  {
   "cell_type": "code",
   "execution_count": null,
   "metadata": {},
   "outputs": [],
   "source": []
  }
 ],
 "metadata": {
  "kernelspec": {
   "display_name": "Python 3",
   "language": "python",
   "name": "python3"
  },
  "language_info": {
   "codemirror_mode": {
    "name": "ipython",
    "version": 3
   },
   "file_extension": ".py",
   "mimetype": "text/x-python",
   "name": "python",
   "nbconvert_exporter": "python",
   "pygments_lexer": "ipython3",
   "version": "3.7.1"
  }
 },
 "nbformat": 4,
 "nbformat_minor": 2
}
