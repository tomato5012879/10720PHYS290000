{
 "cells": [
  {
   "cell_type": "code",
   "execution_count": 12,
   "metadata": {},
   "outputs": [
    {
     "data": {
      "image/png": "[encoded data removed]",
      "text/plain": [
       "<Figure size 432x288 with 1 Axes>"
      ]
     },
     "metadata": {
      "needs_background": "light"
     },
     "output_type": "display_data"
    }
   ],
   "source": [
    "import matplotlib.pyplot as plt\n",
    "import numpy as np\n",
    "\n",
    "dict = {}\n",
    "for i in range(100) :\n",
    "    dict[i] = 40\n",
    "#print(dict)\n",
    "\n",
    "\n",
    "\n",
    "order = np.linspace(0, 99, 100, dtype = 'int64')\n",
    "od1 = np.linspace(0, 99, 100, dtype = 'int64')\n",
    "np.random.shuffle(od1)\n",
    "\n",
    "for i in range(15) :\n",
    "    while (order == od1).any() :\n",
    "        np.random.shuffle(od1)\n",
    "    for j in range(len(order)) :\n",
    "        if dict[order[j]] == 0 :\n",
    "            continue\n",
    "        elif dict[od1[j]] == 0 :\n",
    "            j = j - 1\n",
    "            continue\n",
    "        else :\n",
    "            pss = np.random.randint(0,3)\n",
    "            if pss == 0 :\n",
    "                continue\n",
    "            elif pss == 1 :\n",
    "                dict[order[j]] = dict[order[j]] + 10\n",
    "                dict[od1[j]] = dict [od1[j]] - 10\n",
    "            else :\n",
    "                dict[od1[j]] = dict[od1[j]] + 10\n",
    "                dict[order[j]] = dict[order[j]] - 10\n",
    "    np.random.shuffle(od1)\n",
    "\n",
    "#print(dict)\n",
    "money = []\n",
    "for i in order :\n",
    "    money.append(dict[i])\n",
    "#print(money)\n",
    "\n",
    "plt.hist(money, 10)\n",
    "plt.xlabel('money')\n",
    "plt.ylabel('number of students')\n",
    "plt.show()\n",
    "            \n",
    "            "
   ]
  },
  {
   "cell_type": "code",
   "execution_count": null,
   "metadata": {},
   "outputs": [],
   "source": []
  },
  {
   "cell_type": "code",
   "execution_count": null,
   "metadata": {},
   "outputs": [],
   "source": []
  },
  {
   "cell_type": "code",
   "execution_count": null,
   "metadata": {},
   "outputs": [],
   "source": []
  },
  {
   "cell_type": "code",
   "execution_count": null,
   "metadata": {},
   "outputs": [],
   "source": []
  }
 ],
 "metadata": {
  "kernelspec": {
   "display_name": "Python 3",
   "language": "python",
   "name": "python3"
  },
  "language_info": {
   "codemirror_mode": {
    "name": "ipython",
    "version": 3
   },
   "file_extension": ".py",
   "mimetype": "text/x-python",
   "name": "python",
   "nbconvert_exporter": "python",
   "pygments_lexer": "ipython3",
   "version": "3.7.1"
  }
 },
 "nbformat": 4,
 "nbformat_minor": 2
}
