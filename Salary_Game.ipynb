{
 "cells": [
  {
   "cell_type": "code",
   "execution_count": 10,
   "metadata": {},
   "outputs": [
    {
     "name": "stdout",
     "output_type": "stream",
     "text": [
      "{0: 0, 1: 60, 2: 0, 3: 50, 4: 70, 5: 80, 6: 60, 7: 100, 8: 0, 9: 0, 10: 30, 11: 80, 12: 0, 13: 30, 14: 120, 15: 60, 16: 80, 17: 0, 18: 20, 19: 90, 20: 100, 21: 70, 22: 60, 23: 30, 24: 70, 25: 20, 26: 80, 27: 0, 28: 0, 29: 10, 30: 60, 31: 60, 32: 0, 33: 0, 34: 70, 35: 0, 36: 20, 37: 0, 38: 0, 39: 0, 40: 0, 41: 0, 42: 50, 43: 60, 44: 0, 45: 50, 46: 0, 47: 0, 48: 70, 49: 0, 50: 80, 51: 0, 52: 0, 53: 40, 54: 0, 55: 170, 56: 90, 57: 0, 58: 60, 59: 80, 60: 60, 61: 0, 62: 60, 63: 40, 64: 50, 65: 0, 66: 70, 67: 60, 68: 60, 69: 0, 70: 80, 71: 0, 72: 0, 73: 60, 74: 70, 75: 0, 76: 50, 77: 80, 78: 50, 79: 60, 80: 0, 81: 120, 82: 20, 83: 50, 84: 0, 85: 60, 86: 40, 87: 60, 88: 40, 89: 0, 90: 60, 91: 0, 92: 80, 93: 70, 94: 20, 95: 40, 96: 40, 97: 20, 98: 30, 99: 70}\n",
      "[0, 60, 0, 50, 70, 80, 60, 100, 0, 0, 30, 80, 0, 30, 120, 60, 80, 0, 20, 90, 100, 70, 60, 30, 70, 20, 80, 0, 0, 10, 60, 60, 0, 0, 70, 0, 20, 0, 0, 0, 0, 0, 50, 60, 0, 50, 0, 0, 70, 0, 80, 0, 0, 40, 0, 170, 90, 0, 60, 80, 60, 0, 60, 40, 50, 0, 70, 60, 60, 0, 80, 0, 0, 60, 70, 0, 50, 80, 50, 60, 0, 120, 20, 50, 0, 60, 40, 60, 40, 0, 60, 0, 80, 70, 20, 40, 40, 20, 30, 70]\n"
     ]
    },
    {
     "data": {
      "image/png": "[encoded data removed]",
      "text/plain": [
       "<Figure size 432x288 with 1 Axes>"
      ]
     },
     "metadata": {
      "needs_background": "light"
     },
     "output_type": "display_data"
    }
   ],
   "source": [
    "import matplotlib.pyplot as plt\n",
    "import numpy as np\n",
    "\n",
    "dict = {}\n",
    "for i in range(100) :\n",
    "    dict[i] = 40\n",
    "#print(dict)\n",
    "\n",
    "\n",
    "\n",
    "order = np.linspace(0, 99, 100, dtype = 'int64')\n",
    "od1 = np.linspace(0, 99, 100, dtype = 'int64')\n",
    "np.random.shuffle(od1)\n",
    "\n",
    "for i in range(15) :\n",
    "    while (order == od1).any() :\n",
    "        np.random.shuffle(od1)\n",
    "    for j in range(len(order)) :\n",
    "        if dict[order[j]] == 0 :\n",
    "            continue\n",
    "        elif dict[od1[j]] == 0 :\n",
    "            j = j - 1\n",
    "            continue\n",
    "        else :\n",
    "            pss = np.random.randint(0,3)\n",
    "            if pss == 0 :\n",
    "                continue\n",
    "            elif pss == 1 :\n",
    "                dict[order[j]] = dict[order[j]] + 10\n",
    "                dict[od1[j]] = dict [od1[j]] - 10\n",
    "            else :\n",
    "                dict[od1[j]] = dict[od1[j]] + 10\n",
    "                dict[order[j]] = dict[order[j]] - 10\n",
    "    np.random.shuffle(od1)\n",
    "\n",
    "#print(dict)\n",
    "money = []\n",
    "for i in order :\n",
    "    money.append(dict[i])\n",
    "print(money)\n",
    "\n",
    "plt.hist(money, 10)\n",
    "plt.xlabel('money')\n",
    "plt.ylabel('number of students')\n",
    "plt.show()\n",
    "            \n",
    "            "
   ]
  },
  {
   "cell_type": "code",
   "execution_count": null,
   "metadata": {},
   "outputs": [],
   "source": []
  },
  {
   "cell_type": "code",
   "execution_count": null,
   "metadata": {},
   "outputs": [],
   "source": []
  },
  {
   "cell_type": "code",
   "execution_count": null,
   "metadata": {},
   "outputs": [],
   "source": []
  },
  {
   "cell_type": "code",
   "execution_count": null,
   "metadata": {},
   "outputs": [],
   "source": []
  }
 ],
 "metadata": {
  "kernelspec": {
   "display_name": "Python 3",
   "language": "python",
   "name": "python3"
  },
  "language_info": {
   "codemirror_mode": {
    "name": "ipython",
    "version": 3
   },
   "file_extension": ".py",
   "mimetype": "text/x-python",
   "name": "python",
   "nbconvert_exporter": "python",
   "pygments_lexer": "ipython3",
   "version": "3.7.1"
  }
 },
 "nbformat": 4,
 "nbformat_minor": 2
}
