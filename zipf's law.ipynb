{
 "cells": [
  {
   "cell_type": "code",
   "execution_count": 16,
   "metadata": {},
   "outputs": [
    {
     "data": {
      "image/png": "[encoded data removed]",
      "text/plain": [
       "<Figure size 432x288 with 1 Axes>"
      ]
     },
     "metadata": {
      "needs_background": "light"
     },
     "output_type": "display_data"
    }
   ],
   "source": [
    "fp = open('alice.txt', 'r', encoding = 'UTF-8')\n",
    "\n",
    "dict = {}\n",
    "line = fp.readline()\n",
    "while line :\n",
    "    s = line.split()\n",
    "    for x in s :\n",
    "        if x not in dict :\n",
    "            dict[x] = 1\n",
    "        else :\n",
    "            dict[x] = dict[x] + 1\n",
    "    line = fp.readline()\n",
    "    #print(line)\n",
    "#print(dict)\n",
    "fp.close()\n",
    "\n",
    "num = []\n",
    "for key in dict:\n",
    "    num.append(dict[key])\n",
    "\n",
    "num.sort()\n",
    "num.reverse() #reverse the list\n",
    "\n",
    "#print(num)\n",
    "#print(len(num))\n",
    "\n",
    "rank=[]\n",
    "for i in range(1,6332):\n",
    "    rank.append(i)\n",
    "\n",
    "import matplotlib.pyplot as plt\n",
    "\n",
    "plt.loglog(range(len(num)),num)\n",
    "plt.show()"
   ]
  },
  {
   "cell_type": "code",
   "execution_count": null,
   "metadata": {},
   "outputs": [],
   "source": []
  },
  {
   "cell_type": "code",
   "execution_count": null,
   "metadata": {},
   "outputs": [],
   "source": []
  },
  {
   "cell_type": "code",
   "execution_count": null,
   "metadata": {},
   "outputs": [],
   "source": []
  },
  {
   "cell_type": "code",
   "execution_count": null,
   "metadata": {},
   "outputs": [],
   "source": []
  }
 ],
 "metadata": {
  "kernelspec": {
   "display_name": "Python 3",
   "language": "python",
   "name": "python3"
  },
  "language_info": {
   "codemirror_mode": {
    "name": "ipython",
    "version": 3
   },
   "file_extension": ".py",
   "mimetype": "text/x-python",
   "name": "python",
   "nbconvert_exporter": "python",
   "pygments_lexer": "ipython3",
   "version": "3.7.1"
  }
 },
 "nbformat": 4,
 "nbformat_minor": 2
}
